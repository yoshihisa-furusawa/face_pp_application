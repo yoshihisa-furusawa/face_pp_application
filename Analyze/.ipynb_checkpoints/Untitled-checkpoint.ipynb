{
 "cells": [
  {
   "cell_type": "code",
   "execution_count": 1,
   "metadata": {},
   "outputs": [],
   "source": [
    "import numpy as np\n",
    "import sys\n",
    "import requests\n",
    "sys.path.append(\"../utils/\")\n",
    "\n",
    "from facepp import API,File\n",
    "import ImagePro\n",
    "import glob\n",
    "import yaml\n",
    "import os\n",
    "\n",
    "from progressbar import ProgressBar #progressbar2をインストール\n",
    "import base64\n",
    "import time\n",
    "import json\n",
    "\n",
    "\n",
    "with open(\"analyze_config.yaml\", \"r\") as f:\n",
    "    config = yaml.load(f)\n",
    "\n",
    "api = API(config['API_KEY'], config['API_SECRET'])"
   ]
  },
  {
   "cell_type": "code",
   "execution_count": 2,
   "metadata": {},
   "outputs": [],
   "source": [
    "import cv2"
   ]
  },
  {
   "cell_type": "code",
   "execution_count": 15,
   "metadata": {},
   "outputs": [],
   "source": [
    "class Analyze():\n",
    "    def __init__(self, path_to_analyze_comfig, output_dir_name=\"analyzed_result\", output_json_name=\"output\"):\n",
    "        with open(path_to_analyze_comfig, \"r\") as f:\n",
    "            self.comfig = yaml.load(f)\n",
    "        self.output_dir_name = output_dir_name\n",
    "        self.output_json_name = output_json_name\n",
    "        \n",
    "    def get_dataset(self, serch_comfig_name=\"comfig_camera.yaml\"):\n",
    "        path_to_image = self.comfig[\"target_dir_name\"]\n",
    "\n",
    "        if serch_comfig_name in os.listdir(path_to_image):\n",
    "            self.abs_path = os.path.abspath(self.comfig[\"target_dir_name\"])\n",
    "            path_to_camera_comfig = os.path.join(*[self.abs_path, serch_comfig_name])\n",
    "            with open(path_to_camera_comfig, \"r\") as f:\n",
    "                self.comfig_camera = yaml.load(f)\n",
    "            path_to_image = os.path.join(*[self.abs_path, self.comfig_camera[\"image_dir_name\"]])\n",
    "        else:\n",
    "            print(\"'{}' do not have Image dirctory, ex) {}\".format(path_to_image, os.path.join(*[path_to_image, \"Images/\"])))\n",
    "            quit()  \n",
    "\n",
    "        path_list = glob.glob(os.path.join(*[path_to_image, \"*{}\".format(self.comfig_camera['image_style'])]))\n",
    "        path_list = sorted(path_list, key=lambda x: int(x.split(\"/\")[-1].split(\".\")[0]))\n",
    "        \n",
    "        output_dir_path = os.path.join(*[self.abs_path, self.output_dir_name])\n",
    "        os.makedirs(output_dir_path, exist_ok=True)\n",
    "        \n",
    "        with open(os.path.join(*[output_dir_path, self.comfig[\"target_dir_name\"].split(\"/\")[-1] + \".yaml\"]), \"w\") as f:\n",
    "            yaml.dump(self.comfig, f)\n",
    "            \n",
    "        return path_list[:3]\n",
    "    \n",
    "    def choise_function(self, encode_image, api_kind):\n",
    "        if api_kind ==\"Detect\":\n",
    "            return api.detect(image_base64=encode_image, return_attributes=\",\".join(self.comfig[\"Attribute_Detect\"]))\n",
    "        elif api_kind ==\"Dence\":\n",
    "            return api.face.thousandlandmark(image_base64=encode_image, return_landmark=\"all\")\n",
    "            \n",
    "    def detect(self, path_list, api_kind):\n",
    "        print(\"-\"*10 + api_kind + \"-\"*10)\n",
    "        output_list = []\n",
    "        p_bar = ProgressBar(maxval=len(path_list))\n",
    "        for i, each_file in enumerate(path_list):\n",
    "            p_bar.update(i)\n",
    "            encode_img = self.img_to_bese64(each_file)\n",
    "            output = self.choise_function(encode_image=encode_img, api_kind=api_kind)\n",
    "            output[\"image_path\"] = each_file\n",
    "            output_list.append(output)\n",
    "        api_output_path = os.path.join(*[abs_path, self.output_dir_name, api_kind])\n",
    "        self.save_output(api_output_path, output_list)\n",
    "        \n",
    "    def compere(self, path_list, target_file=None):\n",
    "        print(\"-\"*10 + \"Get Compere\" + \"-\"*10)\n",
    "        p_bar = ProgressBar(maxval=len(path_list))\n",
    "        output_list = []\n",
    "        if target_file is None:\n",
    "            target_file = self.comfig[\"target_file\"]\n",
    "        target_img = self.img_to_bese64(target_file)\n",
    "        for i, each_file in enumerate(path_list):\n",
    "            p_bar.update(i)\n",
    "            if each_file != target_file:\n",
    "                each_img = self.img_to_bese64(each_file)\n",
    "                output = api.compare(image_base64_1=target_img, image_base64_2=each_img)\n",
    "                output[\"image_path\"] = each_img\n",
    "                output_list.append(output)\n",
    "        api_output_path = os.path.join(*[abs_path, self.output_dir_name, \"Compere\"])\n",
    "        self.save_output(api_output_path, output_list, name=target_file.split(\"/\")[-1].split(\".\")[0])\n",
    "            \n",
    "    def save_output(self, path, output_list, name=None):\n",
    "        os.makedirs(path, exist_ok=True)\n",
    "        if name is None:\n",
    "            with open(os.path.join(*[path, self.output_json_name + \".json\"]), \"w\") as f:\n",
    "                json.dump(output_list, f)\n",
    "        else:\n",
    "            with open(os.path.join(*[path, name + \".json\"]), \"w\") as f:\n",
    "                json.dump(output_list, f)\n",
    "            \n",
    "    def img_to_bese64(self, target_file):\n",
    "        with open(target_file, 'rb') as f:\n",
    "                data = f.read()\n",
    "        return base64.b64encode(data)\n",
    "    \n",
    "    def __call__(self):\n",
    "        path_list = self.get_dataset()\n",
    "        if self.comfig[\"USE_API_Detect\"]:\n",
    "            self.detect(path_list, api_kind=\"Detect\")\n",
    "            \n",
    "        if self.comfig[\"USE_API_Compare\"]:\n",
    "            self.compere(path_list)\n",
    "        \n",
    "        if self.comfig[\"USE_API_Dense_Facial_Landmarks\"]:\n",
    "            self.detect(path_list, \"Dence\")"
   ]
  },
  {
   "cell_type": "code",
   "execution_count": 16,
   "metadata": {},
   "outputs": [
    {
     "name": "stderr",
     "output_type": "stream",
     "text": [
      "N/A% (0 of 3) |                          | Elapsed Time: 0:00:00 ETA:  --:--:--"
     ]
    },
    {
     "name": "stdout",
     "output_type": "stream",
     "text": [
      "----------Detect----------\n"
     ]
    },
    {
     "name": "stderr",
     "output_type": "stream",
     "text": [
      "N/A% (0 of 3) |                          | Elapsed Time: 0:00:00 ETA:  --:--:--"
     ]
    },
    {
     "name": "stdout",
     "output_type": "stream",
     "text": [
      "/Users/furusawa_yoshihisa/Desktop/facepp-python-sdk/results/0704_1339_sample/analyzed_result/Detect\n",
      "----------Dence----------\n"
     ]
    },
    {
     "name": "stderr",
     "output_type": "stream",
     "text": [
      " 66% (2 of 3) |#################         | Elapsed Time: 0:00:05 ETA:   0:00:03"
     ]
    },
    {
     "name": "stdout",
     "output_type": "stream",
     "text": [
      "/Users/furusawa_yoshihisa/Desktop/facepp-python-sdk/results/0704_1339_sample/analyzed_result/Dence\n"
     ]
    }
   ],
   "source": [
    "analyze = Analyze(path_to_analyze_comfig=\"./analyze_comfig.yaml\")\n",
    "analyze()"
   ]
  },
  {
   "cell_type": "code",
   "execution_count": null,
   "metadata": {},
   "outputs": [],
   "source": []
  },
  {
   "cell_type": "code",
   "execution_count": null,
   "metadata": {},
   "outputs": [],
   "source": []
  },
  {
   "cell_type": "code",
   "execution_count": null,
   "metadata": {},
   "outputs": [],
   "source": []
  },
  {
   "cell_type": "code",
   "execution_count": 25,
   "metadata": {},
   "outputs": [
    {
     "name": "stderr",
     "output_type": "stream",
     "text": [
      "N/A% (0 of 39) |                         | Elapsed Time: 0:00:00 ETA:  --:--:--"
     ]
    },
    {
     "name": "stdout",
     "output_type": "stream",
     "text": [
      "1.3732402800087584\n"
     ]
    }
   ],
   "source": [
    "\n",
    "from progressbar import ProgressBar #progressbar2をインストール\n",
    "import base64\n",
    "import time\n",
    "import json\n",
    "\n",
    "output_list = []\n",
    "p_bar = ProgressBar(maxval=len(path_list))\n",
    "\n",
    "API_ATT_KIND = {\n",
    "    'USE_API_Detect': \"Attrubute_Detect\",\n",
    "    'USE_API_Compare': \"Attrubute_Compare\",\n",
    "    'USE_API_Dense_Facial_Landmarks': \"Attrubute_Dense_Facial_Landmarks\",\n",
    "}\n",
    "\n",
    "api_kind = 'USE_API_Detect'\n",
    "\n",
    "for i, target_file in enumerate(path_list[:1]):\n",
    "    p_bar.update(i)\n",
    "    with open(target_file, 'rb') as f:\n",
    "        data = f.read()\n",
    "    #Base64で画像をエンコード\n",
    "    encode_img = base64.b64encode(data)\n",
    "    \n",
    "    if api_kind == 'USE_API_Detect':\n",
    "        output = api.detect(image_base64=encode_img, return_attributes=\",\".join(comfig[API_ATT_KIND[api_kind]]))\n",
    "        \n",
    "    elif api_kind == 'USE_API_Dense_Facial_Landmarks':\n",
    "        pass\n",
    "    \n",
    "    else:\n",
    "        \n",
    "        \n",
    "    output[\"image_path\"] = target_file\n",
    "    output_list.append(output)\n",
    "    \n",
    "api_output_path = os.path.join(*[abs_path, \"analyzed_result\", API_KIND[api_kind]])\n",
    "os.makedirs(api_output_path, exist_ok=True)\n",
    "with open(os.path.join(*[api_output_path, \"output.json\"]), \"w\") as f:\n",
    "    json.dump(output_list, f)"
   ]
  },
  {
   "cell_type": "code",
   "execution_count": null,
   "metadata": {},
   "outputs": [],
   "source": []
  },
  {
   "cell_type": "code",
   "execution_count": null,
   "metadata": {},
   "outputs": [],
   "source": []
  },
  {
   "cell_type": "code",
   "execution_count": null,
   "metadata": {},
   "outputs": [],
   "source": []
  },
  {
   "cell_type": "code",
   "execution_count": 1,
   "metadata": {},
   "outputs": [],
   "source": [
    "import json\n",
    "import os"
   ]
  },
  {
   "cell_type": "code",
   "execution_count": 2,
   "metadata": {},
   "outputs": [],
   "source": [
    "import pandas as pd\n",
    "import copy"
   ]
  },
  {
   "cell_type": "code",
   "execution_count": 3,
   "metadata": {},
   "outputs": [],
   "source": [
    "class Dence_api_json_to_csv(object):\n",
    "    def __init__(self, path_to_json, output_path=None, output_dir_name=\"result_by_image\"):\n",
    "        with open(path_to_json, \"r\") as f:\n",
    "            self.data = json.load(f)\n",
    "            \n",
    "        if output_path is None:\n",
    "            self.output_file_path = os.path.join(*[*path_to_json.split(\"/\")[:-1], output_dir_name])\n",
    "        else:\n",
    "            self.output_file_path = os.path.join(*[output_path, output_dir_name])\n",
    "            \n",
    "    def make_dence_face_json_to_csv(self, data, output_file_path):\n",
    "        '''\n",
    "        Function:\n",
    "            Faceに関するランドマークをcsvファイルに保存するための関数\n",
    "        Args:\n",
    "            data (dics) : jsonファイルから読み込んだ結果．画像一枚に対する出力結果取り出したもの．\n",
    "                    print(each_data.keys()) # dict_keys(['time_used', 'request_id', 'face', 'image_path'])\n",
    "            output_file_path (str) : 出力先のパス\n",
    "        ''' \n",
    "        data = copy.deepcopy(data)\n",
    "        df_eye = pd.DataFrame([], index=[\"radius\", \"center_x\", \"center_y\"])\n",
    "        \n",
    "        for landmark_key in data[\"face\"]['landmark']:\n",
    "            if landmark_key in [\"left_eye\", \"right_eye\"]:\n",
    "                radius = data[\"face\"]['landmark'][landmark_key][landmark_key + \"_pupil_radius\"]\n",
    "                center = data[\"face\"]['landmark'][landmark_key][landmark_key + \"_pupil_center\"]\n",
    "                df_eye[landmark_key] = [radius, center[\"x\"], center[\"y\"]]\n",
    "\n",
    "                del data[\"face\"]['landmark'][landmark_key][landmark_key + \"_pupil_center\"]\n",
    "                del data[\"face\"]['landmark'][landmark_key][landmark_key + \"_pupil_radius\"]\n",
    "\n",
    "            self.make_dence_dir(data[\"face\"]['landmark'], output_dir=output_file_path, landmark_key_name=landmark_key, mode=\"landmark\")\n",
    "\n",
    "        df_eye.to_csv(os.path.join(*[output_file_path, \"eye_center_radius.csv\"]))\n",
    "        self.make_dence_dir(data[\"face\"]['face_rectangle'], output_dir=output_file_path, mode=\"rectangle\")\n",
    "        \n",
    "    def make_dence_dir(self, each_data, output_dir, landmark_key_name=None, mode=\"landmark\"):\n",
    "        \"\"\"\n",
    "        Function:\n",
    "            denceの処理を行なった場合に，APIからの各アウトプットをcsvファイルに保存するための関数\n",
    "        Args:\n",
    "            each_data (dics) : jsonファイルから読み込んだ結果．画像一枚に対する出力結果取り出したもの\n",
    "            output_dir (str) : 出力先のパス\n",
    "            landmark_key_name (str) : landmarkに関するkey\n",
    "            mode (str) : APIからの各アウトプットの形式が違うので，修正するためにmodeとして入れる．[\"landmark\", \"rectangle\"]から選択\n",
    "        \"\"\"\n",
    "        os.makedirs(output_dir, exist_ok=True)\n",
    "        each_data = copy.deepcopy(each_data)\n",
    "        \n",
    "        if mode == \"landmark\":\n",
    "            df = pd.DataFrame([], index=[\"x_cood\", \"y_cood\"])\n",
    "            \n",
    "            if landmark_key_name == \"nose\":\n",
    "                each_data[landmark_key_name]['left_nostril_0'] = each_data[landmark_key_name].pop('left_nostril')\n",
    "                each_data[landmark_key_name]['right_nostril_0'] = each_data[landmark_key_name].pop('right_nostril')\n",
    "    \n",
    "            target_dataset = each_data[landmark_key_name].items()\n",
    "            target_dataset = sorted(target_dataset, key= lambda x: int(x[0].split(\"_\")[-1]))\n",
    "            for land_name, cood in target_dataset:\n",
    "                df[land_name] = [cood[\"x\"], cood[\"y\"]]\n",
    "            df.to_csv(os.path.join(*[output_dir, landmark_key_name + \".csv\"]))\n",
    "\n",
    "        elif mode == \"rectangle\":\n",
    "            df = pd.DataFrame([], index=['width', 'top', 'height', 'left'])\n",
    "            df[\"b_box\"] = [each_data['width'], each_data['top'], each_data['height'], each_data['left']] \n",
    "            df.to_csv(os.path.join(*[output_dir, \"rectangle.csv\"]))\n",
    "            \n",
    "    def __call__(self, output_dir=None):\n",
    "        \n",
    "        if output_dir is not None:\n",
    "            self.output_file_path = output_dir\n",
    "            \n",
    "        for each_data in self.data:\n",
    "            image_number = each_data[\"image_path\"].split(\"/\")[-1].split(\".\")[0]\n",
    "            each_output_path = os.path.join(*[self.output_file_path, image_number])\n",
    "            os.makedirs(each_output_path, exist_ok=True)\n",
    "            self.make_dence_face_json_to_csv(data=each_data,\n",
    "                                             output_file_path=each_output_path)\n",
    "            "
   ]
  },
  {
   "cell_type": "code",
   "execution_count": 5,
   "metadata": {},
   "outputs": [
    {
     "ename": "FileNotFoundError",
     "evalue": "[Errno 2] No such file or directory: '../results/0821_0150_sample/analyzed_result/Dence/output.json'",
     "output_type": "error",
     "traceback": [
      "\u001b[0;31m---------------------------------------------------------------------------\u001b[0m",
      "\u001b[0;31mFileNotFoundError\u001b[0m                         Traceback (most recent call last)",
      "\u001b[0;32m<ipython-input-5-844c0a47798d>\u001b[0m in \u001b[0;36m<module>\u001b[0;34m\u001b[0m\n\u001b[1;32m      1\u001b[0m dence = Dence_api_json_to_csv(path_to_json=\"../results/0821_0150_sample/analyzed_result/Dence/output.json\",\n\u001b[0;32m----> 2\u001b[0;31m                               output_dir_name=\"result_by_image\")\n\u001b[0m",
      "\u001b[0;32m<ipython-input-3-3443af6ae10f>\u001b[0m in \u001b[0;36m__init__\u001b[0;34m(self, path_to_json, output_path, output_dir_name)\u001b[0m\n\u001b[1;32m      1\u001b[0m \u001b[0;32mclass\u001b[0m \u001b[0mDence_api_json_to_csv\u001b[0m\u001b[0;34m(\u001b[0m\u001b[0mobject\u001b[0m\u001b[0;34m)\u001b[0m\u001b[0;34m:\u001b[0m\u001b[0;34m\u001b[0m\u001b[0;34m\u001b[0m\u001b[0m\n\u001b[1;32m      2\u001b[0m     \u001b[0;32mdef\u001b[0m \u001b[0m__init__\u001b[0m\u001b[0;34m(\u001b[0m\u001b[0mself\u001b[0m\u001b[0;34m,\u001b[0m \u001b[0mpath_to_json\u001b[0m\u001b[0;34m,\u001b[0m \u001b[0moutput_path\u001b[0m\u001b[0;34m=\u001b[0m\u001b[0;32mNone\u001b[0m\u001b[0;34m,\u001b[0m \u001b[0moutput_dir_name\u001b[0m\u001b[0;34m=\u001b[0m\u001b[0;34m\"result_by_image\"\u001b[0m\u001b[0;34m)\u001b[0m\u001b[0;34m:\u001b[0m\u001b[0;34m\u001b[0m\u001b[0;34m\u001b[0m\u001b[0m\n\u001b[0;32m----> 3\u001b[0;31m         \u001b[0;32mwith\u001b[0m \u001b[0mopen\u001b[0m\u001b[0;34m(\u001b[0m\u001b[0mpath_to_json\u001b[0m\u001b[0;34m,\u001b[0m \u001b[0;34m\"r\"\u001b[0m\u001b[0;34m)\u001b[0m \u001b[0;32mas\u001b[0m \u001b[0mf\u001b[0m\u001b[0;34m:\u001b[0m\u001b[0;34m\u001b[0m\u001b[0;34m\u001b[0m\u001b[0m\n\u001b[0m\u001b[1;32m      4\u001b[0m             \u001b[0mself\u001b[0m\u001b[0;34m.\u001b[0m\u001b[0mdata\u001b[0m \u001b[0;34m=\u001b[0m \u001b[0mjson\u001b[0m\u001b[0;34m.\u001b[0m\u001b[0mload\u001b[0m\u001b[0;34m(\u001b[0m\u001b[0mf\u001b[0m\u001b[0;34m)\u001b[0m\u001b[0;34m\u001b[0m\u001b[0;34m\u001b[0m\u001b[0m\n\u001b[1;32m      5\u001b[0m \u001b[0;34m\u001b[0m\u001b[0m\n",
      "\u001b[0;31mFileNotFoundError\u001b[0m: [Errno 2] No such file or directory: '../results/0821_0150_sample/analyzed_result/Dence/output.json'"
     ]
    }
   ],
   "source": [
    "dence = Dence_api_json_to_csv(path_to_json=\"../results/0821_0150_sample/analyzed_result/Dence/output.json\",\n",
    "                              output_dir_name=\"result_by_image\")"
   ]
  },
  {
   "cell_type": "code",
   "execution_count": null,
   "metadata": {},
   "outputs": [],
   "source": []
  },
  {
   "cell_type": "code",
   "execution_count": null,
   "metadata": {},
   "outputs": [],
   "source": []
  },
  {
   "cell_type": "code",
   "execution_count": 12,
   "metadata": {},
   "outputs": [],
   "source": [
    "class Detect_api_json_to_csv(object):\n",
    "    def __init__(self, path_to_json, output_path=None, output_dir_name=\"result_by_image\"):\n",
    "        with open(path_to_json, \"r\") as f:\n",
    "            self.data = json.load(f)\n",
    "            \n",
    "        if output_path is None:\n",
    "            self.output_file_path = os.path.join(*[*path_to_json.split(\"/\")[:-1], output_dir_name])\n",
    "        else:\n",
    "            self.output_file_path = os.path.join(*[output_path, output_dir_name])\n",
    "        \n",
    "    def detect_face_attribute(self, data, output_path_each_face, index_name=\"output\"):\n",
    "        gender_category = data[\"attributes\"].keys()\n",
    "        for attribute_key in gender_category:\n",
    "            df = pd.DataFrame([], index=[index_name])\n",
    "            for key_name, value_score in data[\"attributes\"][attribute_key].items():\n",
    "\n",
    "                if hasattr(value_score, \"keys\"):\n",
    "                    for key_name_each, value_score_each in data[\"attributes\"][attribute_key][key_name].items():\n",
    "                        df[key_name_each] = [value_score_each]\n",
    "                else:\n",
    "                    df[key_name] = [value_score]\n",
    "\n",
    "            output_file_name = os.path.join(*[output_path_each_face, attribute_key + \".csv\"])\n",
    "            df.to_csv(output_file_name)\n",
    "            \n",
    "    def detect_face_rectange(self, data, output_path_each_face, index_name=\"cood\"):\n",
    "        df = pd.DataFrame([], index=[index_name])\n",
    "        for b_box_info_name, value in data[\"face_rectangle\"].items():\n",
    "            df[b_box_info_name] = value\n",
    "        output_file_name = os.path.join(*[output_path_each_face, \"face_rectangle.csv\"])\n",
    "        df.to_csv(output_file_name)\n",
    "    \n",
    "    def __call__(self, output_dir=None):\n",
    "        if output_dir is not None:\n",
    "            self.output_file_path = output_dir\n",
    "\n",
    "        for each_data in self.data:\n",
    "            print(each_data)\n",
    "            image_number = each_data[\"image_path\"].split(\"/\")[-1].split(\".\")[0]\n",
    "            each_output_path = os.path.join(*[self.output_file_path, image_number])\n",
    "            for face_number, each_face_data in enumerate(each_data[\"faces\"]):\n",
    "                \n",
    "                # 顔ごとにディレクトリを作る, 1つしか写っていない場合は\"0\"のディレクトリが作られる\n",
    "                output_path_each_face = os.path.join(*[each_output_path, str(face_number)])\n",
    "                os.makedirs(output_path_each_face, exist_ok=True)\n",
    "                \n",
    "                self.detect_face_attribute(data=each_face_data,\n",
    "                                           output_path_each_face=output_path_each_face,\n",
    "                                           index_name=\"output\")\n",
    "                \n",
    "                self.detect_face_rectange(data=each_face_data,\n",
    "                                          output_path_each_face=output_path_each_face)"
   ]
  },
  {
   "cell_type": "code",
   "execution_count": 13,
   "metadata": {},
   "outputs": [],
   "source": [
    "detect = Detect_api_json_to_csv(path_to_json=\"../results/0821_0150_sample/analyzed_result/Detect/output.json\",\n",
    "                       output_path=None,\n",
    "                       output_dir_name=\"result_by_image\")"
   ]
  },
  {
   "cell_type": "code",
   "execution_count": 14,
   "metadata": {},
   "outputs": [
    {
     "name": "stdout",
     "output_type": "stream",
     "text": [
      "{'time_used': 96, 'faces': [], 'image_id': 'Isr/Sl0ZfvkbKfejSd/p2A==', 'request_id': '1566319821,9e44c7ea-7853-4648-9bcf-2c3717d5728d', 'face_num': 0, 'image_path': '/Users/furusawa_yoshihisa/Desktop/face_pp/facepp-python-sdk/results/0821_0150_sample/Images/0000001.png'}\n",
      "{'time_used': 92, 'faces': [], 'image_id': 'rjkuCrKYi+2xokLPdiOhxg==', 'request_id': '1566319822,93ae3fac-6d82-46de-b016-fe934dccfa1c', 'face_num': 0, 'image_path': '/Users/furusawa_yoshihisa/Desktop/face_pp/facepp-python-sdk/results/0821_0150_sample/Images/0000002.png'}\n",
      "{'time_used': 70, 'faces': [], 'image_id': 'rSC8vo0xE6UCedq6xTMHpA==', 'request_id': '1566319824,16e4f09f-dfe0-4868-b45c-fec3df427db9', 'face_num': 0, 'image_path': '/Users/furusawa_yoshihisa/Desktop/face_pp/facepp-python-sdk/results/0821_0150_sample/Images/0000003.png'}\n"
     ]
    }
   ],
   "source": [
    "detect()"
   ]
  },
  {
   "cell_type": "code",
   "execution_count": null,
   "metadata": {},
   "outputs": [],
   "source": []
  },
  {
   "cell_type": "code",
   "execution_count": null,
   "metadata": {},
   "outputs": [],
   "source": []
  }
 ],
 "metadata": {
  "kernelspec": {
   "display_name": "Python 3",
   "language": "python",
   "name": "python3"
  },
  "language_info": {
   "codemirror_mode": {
    "name": "ipython",
    "version": 3
   },
   "file_extension": ".py",
   "mimetype": "text/x-python",
   "name": "python",
   "nbconvert_exporter": "python",
   "pygments_lexer": "ipython3",
   "version": "3.7.4"
  }
 },
 "nbformat": 4,
 "nbformat_minor": 4
}
