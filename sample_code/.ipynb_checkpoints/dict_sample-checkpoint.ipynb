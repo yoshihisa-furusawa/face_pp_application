{
 "cells": [
  {
   "cell_type": "markdown",
   "metadata": {},
   "source": [
    "# 辞書型の処理の例"
   ]
  },
  {
   "cell_type": "code",
   "execution_count": 1,
   "metadata": {},
   "outputs": [],
   "source": [
    "sample_dic = {\n",
    "    'a' : 10,\n",
    "    'b' : 2\n",
    "}"
   ]
  },
  {
   "cell_type": "code",
   "execution_count": 2,
   "metadata": {},
   "outputs": [
    {
     "name": "stdout",
     "output_type": "stream",
     "text": [
      "{'a': 10, 'b': 2}\n"
     ]
    }
   ],
   "source": [
    "print(sample_dic)"
   ]
  },
  {
   "cell_type": "code",
   "execution_count": 3,
   "metadata": {},
   "outputs": [
    {
     "name": "stdout",
     "output_type": "stream",
     "text": [
      "10\n"
     ]
    }
   ],
   "source": [
    "print(sample_dic['a'])"
   ]
  },
  {
   "cell_type": "code",
   "execution_count": null,
   "metadata": {},
   "outputs": [],
   "source": []
  },
  {
   "cell_type": "code",
   "execution_count": null,
   "metadata": {},
   "outputs": [],
   "source": []
  },
  {
   "cell_type": "code",
   "execution_count": null,
   "metadata": {},
   "outputs": [],
   "source": []
  },
  {
   "cell_type": "markdown",
   "metadata": {},
   "source": [
    "# Jsonファイルの読み込み例"
   ]
  },
  {
   "cell_type": "code",
   "execution_count": 4,
   "metadata": {},
   "outputs": [],
   "source": [
    "import json"
   ]
  },
  {
   "cell_type": "code",
   "execution_count": 5,
   "metadata": {},
   "outputs": [],
   "source": [
    "# Jsonファイルへのパスを指定\n",
    "path_to_json = \"output.json\"\n",
    "\n",
    "#jsonパッケージを使用して，List型として取り出す \n",
    "with open(\"./output.json\", \"r\") as f:\n",
    "    data = json.load(f)"
   ]
  },
  {
   "cell_type": "code",
   "execution_count": null,
   "metadata": {},
   "outputs": [],
   "source": []
  },
  {
   "cell_type": "markdown",
   "metadata": {},
   "source": [
    "### jsonファイルの確認"
   ]
  },
  {
   "cell_type": "code",
   "execution_count": 6,
   "metadata": {},
   "outputs": [
    {
     "data": {
      "text/plain": [
       "{'time_used': 265,\n",
       " 'faces': [{'attributes': {'emotion': {'sadness': 0.112,\n",
       "     'neutral': 0.112,\n",
       "     'disgust': 21.496,\n",
       "     'anger': 0.118,\n",
       "     'surprise': 73.006,\n",
       "     'fear': 4.885,\n",
       "     'happiness': 0.272},\n",
       "    'beauty': {'female_score': 54.67, 'male_score': 54.991},\n",
       "    'gender': {'value': 'Male'},\n",
       "    'age': {'value': 22},\n",
       "    'mouthstatus': {'close': 99.983,\n",
       "     'surgical_mask_or_respirator': 0.0,\n",
       "     'open': 0.015,\n",
       "     'other_occlusion': 0.002},\n",
       "    'glass': {'value': 'Normal'},\n",
       "    'skinstatus': {'dark_circle': 4.298,\n",
       "     'stain': 29.578,\n",
       "     'acne': 11.695,\n",
       "     'health': 2.537},\n",
       "    'headpose': {'yaw_angle': 17.980286,\n",
       "     'pitch_angle': -1.2319082,\n",
       "     'roll_angle': 1.4911233},\n",
       "    'blur': {'blurness': {'threshold': 50.0, 'value': 91.507},\n",
       "     'motionblur': {'threshold': 50.0, 'value': 91.507},\n",
       "     'gaussianblur': {'threshold': 50.0, 'value': 91.507}},\n",
       "    'smile': {'threshold': 50.0, 'value': 0.192},\n",
       "    'eyestatus': {'left_eye_status': {'normal_glass_eye_open': 95.303,\n",
       "      'no_glass_eye_close': 0.006,\n",
       "      'occlusion': 0.098,\n",
       "      'no_glass_eye_open': 2.653,\n",
       "      'normal_glass_eye_close': 1.529,\n",
       "      'dark_glasses': 0.41},\n",
       "     'right_eye_status': {'normal_glass_eye_open': 20.947,\n",
       "      'no_glass_eye_close': 0.045,\n",
       "      'occlusion': 0.138,\n",
       "      'no_glass_eye_open': 1.213,\n",
       "      'normal_glass_eye_close': 70.995,\n",
       "      'dark_glasses': 6.663}},\n",
       "    'facequality': {'threshold': 70.1, 'value': 0.006},\n",
       "    'ethnicity': {'value': 'ASIAN'}},\n",
       "   'face_rectangle': {'width': 124, 'top': 101, 'left': 58, 'height': 124},\n",
       "   'face_token': 'e2159cda48b04fc79540809f364a9db6'}],\n",
       " 'image_id': 'qjKdOhZ/Kaq2ogJC5KYegw==',\n",
       " 'request_id': '1563425194,b22bb9a6-665d-417b-bfd9-d442b1fb23ea',\n",
       " 'face_num': 1,\n",
       " 'image_path': '/Users/furusawa_yoshihisa/Desktop/facepp-python-sdk/results/0718_1346_sample/Images/0000001.png'}"
      ]
     },
     "execution_count": 6,
     "metadata": {},
     "output_type": "execute_result"
    }
   ],
   "source": [
    "data[0] #0番目のデータに入っている情報"
   ]
  },
  {
   "cell_type": "code",
   "execution_count": null,
   "metadata": {},
   "outputs": [],
   "source": []
  },
  {
   "cell_type": "markdown",
   "metadata": {},
   "source": [
    "# Keyの取り出し"
   ]
  },
  {
   "cell_type": "code",
   "execution_count": 7,
   "metadata": {},
   "outputs": [
    {
     "data": {
      "text/plain": [
       "dict_keys(['time_used', 'faces', 'image_id', 'request_id', 'face_num', 'image_path'])"
      ]
     },
     "execution_count": 7,
     "metadata": {},
     "output_type": "execute_result"
    }
   ],
   "source": [
    "data[0].keys() #Keyをdict_keys(List型ではない)として取り出す"
   ]
  },
  {
   "cell_type": "code",
   "execution_count": 8,
   "metadata": {},
   "outputs": [
    {
     "data": {
      "text/plain": [
       "['time_used', 'faces', 'image_id', 'request_id', 'face_num', 'image_path']"
      ]
     },
     "execution_count": 8,
     "metadata": {},
     "output_type": "execute_result"
    }
   ],
   "source": [
    "list(data[0].keys()) #List型に変更する，List型にすれば番号を指定すれば取り出せる"
   ]
  },
  {
   "cell_type": "code",
   "execution_count": 9,
   "metadata": {},
   "outputs": [
    {
     "data": {
      "text/plain": [
       "'/Users/furusawa_yoshihisa/Desktop/facepp-python-sdk/results/0718_1346_sample/Images/0000001.png'"
      ]
     },
     "execution_count": 9,
     "metadata": {},
     "output_type": "execute_result"
    }
   ],
   "source": [
    "data[0]['image_path'] #画像のパス"
   ]
  },
  {
   "cell_type": "code",
   "execution_count": 11,
   "metadata": {},
   "outputs": [
    {
     "data": {
      "text/plain": [
       "[{'attributes': {'emotion': {'sadness': 0.112,\n",
       "    'neutral': 0.112,\n",
       "    'disgust': 21.496,\n",
       "    'anger': 0.118,\n",
       "    'surprise': 73.006,\n",
       "    'fear': 4.885,\n",
       "    'happiness': 0.272},\n",
       "   'beauty': {'female_score': 54.67, 'male_score': 54.991},\n",
       "   'gender': {'value': 'Male'},\n",
       "   'age': {'value': 22},\n",
       "   'mouthstatus': {'close': 99.983,\n",
       "    'surgical_mask_or_respirator': 0.0,\n",
       "    'open': 0.015,\n",
       "    'other_occlusion': 0.002},\n",
       "   'glass': {'value': 'Normal'},\n",
       "   'skinstatus': {'dark_circle': 4.298,\n",
       "    'stain': 29.578,\n",
       "    'acne': 11.695,\n",
       "    'health': 2.537},\n",
       "   'headpose': {'yaw_angle': 17.980286,\n",
       "    'pitch_angle': -1.2319082,\n",
       "    'roll_angle': 1.4911233},\n",
       "   'blur': {'blurness': {'threshold': 50.0, 'value': 91.507},\n",
       "    'motionblur': {'threshold': 50.0, 'value': 91.507},\n",
       "    'gaussianblur': {'threshold': 50.0, 'value': 91.507}},\n",
       "   'smile': {'threshold': 50.0, 'value': 0.192},\n",
       "   'eyestatus': {'left_eye_status': {'normal_glass_eye_open': 95.303,\n",
       "     'no_glass_eye_close': 0.006,\n",
       "     'occlusion': 0.098,\n",
       "     'no_glass_eye_open': 2.653,\n",
       "     'normal_glass_eye_close': 1.529,\n",
       "     'dark_glasses': 0.41},\n",
       "    'right_eye_status': {'normal_glass_eye_open': 20.947,\n",
       "     'no_glass_eye_close': 0.045,\n",
       "     'occlusion': 0.138,\n",
       "     'no_glass_eye_open': 1.213,\n",
       "     'normal_glass_eye_close': 70.995,\n",
       "     'dark_glasses': 6.663}},\n",
       "   'facequality': {'threshold': 70.1, 'value': 0.006},\n",
       "   'ethnicity': {'value': 'ASIAN'}},\n",
       "  'face_rectangle': {'width': 124, 'top': 101, 'left': 58, 'height': 124},\n",
       "  'face_token': 'e2159cda48b04fc79540809f364a9db6'}]"
      ]
     },
     "execution_count": 11,
     "metadata": {},
     "output_type": "execute_result"
    }
   ],
   "source": [
    "data[0]['faces'] #Valueとして，List型や，辞書型が入っている場合もある．"
   ]
  },
  {
   "cell_type": "code",
   "execution_count": null,
   "metadata": {},
   "outputs": [],
   "source": []
  },
  {
   "cell_type": "code",
   "execution_count": null,
   "metadata": {},
   "outputs": [],
   "source": []
  }
 ],
 "metadata": {
  "kernelspec": {
   "display_name": "Python 3",
   "language": "python",
   "name": "python3"
  },
  "language_info": {
   "codemirror_mode": {
    "name": "ipython",
    "version": 3
   },
   "file_extension": ".py",
   "mimetype": "text/x-python",
   "name": "python",
   "nbconvert_exporter": "python",
   "pygments_lexer": "ipython3",
   "version": "3.6.6"
  }
 },
 "nbformat": 4,
 "nbformat_minor": 2
}
